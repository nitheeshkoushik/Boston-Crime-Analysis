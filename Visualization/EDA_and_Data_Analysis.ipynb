{
 "cells": [
  {
   "cell_type": "markdown",
   "metadata": {
    "id": "63zn3WBt1rn5"
   },
   "source": [
    "# Importing Packages"
   ]
  },
  {
   "cell_type": "code",
   "execution_count": 3,
   "metadata": {
    "id": "_iAFJ6fw69Z7"
   },
   "outputs": [],
   "source": [
    "from folium.plugins import HeatMap, MarkerCluster\n",
    "from folium import Choropleth, Circle, Marker\n",
    "from geopy.geocoders import Nominatim\n",
    "from datetime import datetime as dt\n",
    "import matplotlib.pyplot as plt\n",
    "import seaborn as sns\n",
    "import pandas as pd\n",
    "import numpy as np\n",
    "import folium\n",
    "import math\n",
    "import sys\n",
    "import os"
   ]
  },
  {
   "cell_type": "code",
   "execution_count": 2,
   "metadata": {
    "colab": {
     "base_uri": "https://localhost:8080/"
    },
    "id": "Rf7DFwUpr2wJ",
    "outputId": "0eed780d-adba-4317-b96e-038507f1c4fb"
   },
   "outputs": [
    {
     "data": {
      "text/plain": [
       "0"
      ]
     },
     "execution_count": 2,
     "metadata": {},
     "output_type": "execute_result"
    }
   ],
   "source": [
    "# sys.getrecursionlimit()\n",
    "# import threading\n",
    "# sys.setrecursionlimit(10**7) # max depth of recursion\n",
    "# threading.stack_size(2**27)"
   ]
  },
  {
   "cell_type": "markdown",
   "metadata": {
    "id": "C4Vajc5d1wwN"
   },
   "source": [
    "# Importing Data"
   ]
  },
  {
   "cell_type": "code",
   "execution_count": 4,
   "metadata": {
    "colab": {
     "base_uri": "https://localhost:8080/"
    },
    "id": "CPzpScOu8LlG",
    "outputId": "16528f43-6b0f-489e-abe6-b2017d87f68e"
   },
   "outputs": [
    {
     "data": {
      "text/html": [
       "<div>\n",
       "<style scoped>\n",
       "    .dataframe tbody tr th:only-of-type {\n",
       "        vertical-align: middle;\n",
       "    }\n",
       "\n",
       "    .dataframe tbody tr th {\n",
       "        vertical-align: top;\n",
       "    }\n",
       "\n",
       "    .dataframe thead th {\n",
       "        text-align: right;\n",
       "    }\n",
       "</style>\n",
       "<table border=\"1\" class=\"dataframe\">\n",
       "  <thead>\n",
       "    <tr style=\"text-align: right;\">\n",
       "      <th></th>\n",
       "      <th>INCIDENT_NUMBER</th>\n",
       "      <th>OFFENSE_CODE</th>\n",
       "      <th>SHOOTING</th>\n",
       "      <th>OCCURRED_ON_DATE</th>\n",
       "      <th>YEAR</th>\n",
       "      <th>MONTH</th>\n",
       "      <th>DAY_OF_WEEK</th>\n",
       "      <th>HOUR</th>\n",
       "      <th>LOCATION</th>\n",
       "      <th>LATITUDE</th>\n",
       "      <th>LONGITUDE</th>\n",
       "      <th>OFFENSE_DESCRIPTION</th>\n",
       "      <th>OFFENSE_CODE_GROUP</th>\n",
       "      <th>ADDRESS</th>\n",
       "      <th>ROAD</th>\n",
       "      <th>NEIGHBOURHOOD</th>\n",
       "      <th>SUBURB</th>\n",
       "      <th>CITY</th>\n",
       "      <th>COUNTY</th>\n",
       "    </tr>\n",
       "  </thead>\n",
       "  <tbody>\n",
       "    <tr>\n",
       "      <th>0</th>\n",
       "      <td>192070453</td>\n",
       "      <td>100</td>\n",
       "      <td>0</td>\n",
       "      <td>2019-09-03 23:25:00</td>\n",
       "      <td>2019</td>\n",
       "      <td>9</td>\n",
       "      <td>Tuesday</td>\n",
       "      <td>23</td>\n",
       "      <td>(42.38135785377728, -71.03768162799254)</td>\n",
       "      <td>42.381358</td>\n",
       "      <td>-71.037682</td>\n",
       "      <td>MIGRATED REPORT - CRIMINAL HOMICIDE</td>\n",
       "      <td>HOMICIDE</td>\n",
       "      <td>{'house_number': '49', 'road': 'West Eagle Str...</td>\n",
       "      <td>West Eagle Street</td>\n",
       "      <td>Eagle Hill</td>\n",
       "      <td>East Boston</td>\n",
       "      <td>Boston</td>\n",
       "      <td>Suffolk County</td>\n",
       "    </tr>\n",
       "    <tr>\n",
       "      <th>1</th>\n",
       "      <td>212002782</td>\n",
       "      <td>520</td>\n",
       "      <td>0</td>\n",
       "      <td>2021-01-13 10:10:00</td>\n",
       "      <td>2021</td>\n",
       "      <td>1</td>\n",
       "      <td>Wednesday</td>\n",
       "      <td>10</td>\n",
       "      <td>(42.38135785377728, -71.03768162799254)</td>\n",
       "      <td>42.381358</td>\n",
       "      <td>-71.037682</td>\n",
       "      <td>BURGLARY - RESIDENTIAL - FORCE</td>\n",
       "      <td>RESIDENTIAL BURGLARY</td>\n",
       "      <td>{'house_number': '49', 'road': 'West Eagle Str...</td>\n",
       "      <td>West Eagle Street</td>\n",
       "      <td>Eagle Hill</td>\n",
       "      <td>East Boston</td>\n",
       "      <td>Boston</td>\n",
       "      <td>Suffolk County</td>\n",
       "    </tr>\n",
       "    <tr>\n",
       "      <th>2</th>\n",
       "      <td>212025886</td>\n",
       "      <td>614</td>\n",
       "      <td>0</td>\n",
       "      <td>2021-04-22 09:48:00</td>\n",
       "      <td>2021</td>\n",
       "      <td>4</td>\n",
       "      <td>Thursday</td>\n",
       "      <td>9</td>\n",
       "      <td>(42.38135785377728, -71.03768162799254)</td>\n",
       "      <td>42.381358</td>\n",
       "      <td>-71.037682</td>\n",
       "      <td>LARCENY THEFT FROM MV - NON-ACCESSORY</td>\n",
       "      <td>LARCENY FROM MOTOR VEHICLE</td>\n",
       "      <td>{'house_number': '49', 'road': 'West Eagle Str...</td>\n",
       "      <td>West Eagle Street</td>\n",
       "      <td>Eagle Hill</td>\n",
       "      <td>East Boston</td>\n",
       "      <td>Boston</td>\n",
       "      <td>Suffolk County</td>\n",
       "    </tr>\n",
       "    <tr>\n",
       "      <th>3</th>\n",
       "      <td>212002485</td>\n",
       "      <td>801</td>\n",
       "      <td>0</td>\n",
       "      <td>2021-01-12 10:00:00</td>\n",
       "      <td>2021</td>\n",
       "      <td>1</td>\n",
       "      <td>Tuesday</td>\n",
       "      <td>10</td>\n",
       "      <td>(42.38135785377728, -71.03768162799254)</td>\n",
       "      <td>42.381358</td>\n",
       "      <td>-71.037682</td>\n",
       "      <td>ASSAULT - SIMPLE</td>\n",
       "      <td>SIMPLE ASSAULT</td>\n",
       "      <td>{'house_number': '49', 'road': 'West Eagle Str...</td>\n",
       "      <td>West Eagle Street</td>\n",
       "      <td>Eagle Hill</td>\n",
       "      <td>East Boston</td>\n",
       "      <td>Boston</td>\n",
       "      <td>Suffolk County</td>\n",
       "    </tr>\n",
       "    <tr>\n",
       "      <th>4</th>\n",
       "      <td>212016939</td>\n",
       "      <td>801</td>\n",
       "      <td>0</td>\n",
       "      <td>2021-03-17 02:41:00</td>\n",
       "      <td>2021</td>\n",
       "      <td>3</td>\n",
       "      <td>Wednesday</td>\n",
       "      <td>2</td>\n",
       "      <td>(42.38135785377728, -71.03768162799254)</td>\n",
       "      <td>42.381358</td>\n",
       "      <td>-71.037682</td>\n",
       "      <td>ASSAULT - SIMPLE</td>\n",
       "      <td>SIMPLE ASSAULT</td>\n",
       "      <td>{'house_number': '49', 'road': 'West Eagle Str...</td>\n",
       "      <td>West Eagle Street</td>\n",
       "      <td>Eagle Hill</td>\n",
       "      <td>East Boston</td>\n",
       "      <td>Boston</td>\n",
       "      <td>Suffolk County</td>\n",
       "    </tr>\n",
       "  </tbody>\n",
       "</table>\n",
       "</div>"
      ],
      "text/plain": [
       "  INCIDENT_NUMBER  OFFENSE_CODE  SHOOTING     OCCURRED_ON_DATE  YEAR  MONTH  \\\n",
       "0       192070453           100         0  2019-09-03 23:25:00  2019      9   \n",
       "1       212002782           520         0  2021-01-13 10:10:00  2021      1   \n",
       "2       212025886           614         0  2021-04-22 09:48:00  2021      4   \n",
       "3       212002485           801         0  2021-01-12 10:00:00  2021      1   \n",
       "4       212016939           801         0  2021-03-17 02:41:00  2021      3   \n",
       "\n",
       "  DAY_OF_WEEK  HOUR                                 LOCATION   LATITUDE  \\\n",
       "0     Tuesday    23  (42.38135785377728, -71.03768162799254)  42.381358   \n",
       "1   Wednesday    10  (42.38135785377728, -71.03768162799254)  42.381358   \n",
       "2    Thursday     9  (42.38135785377728, -71.03768162799254)  42.381358   \n",
       "3     Tuesday    10  (42.38135785377728, -71.03768162799254)  42.381358   \n",
       "4   Wednesday     2  (42.38135785377728, -71.03768162799254)  42.381358   \n",
       "\n",
       "   LONGITUDE                    OFFENSE_DESCRIPTION  \\\n",
       "0 -71.037682    MIGRATED REPORT - CRIMINAL HOMICIDE   \n",
       "1 -71.037682         BURGLARY - RESIDENTIAL - FORCE   \n",
       "2 -71.037682  LARCENY THEFT FROM MV - NON-ACCESSORY   \n",
       "3 -71.037682                       ASSAULT - SIMPLE   \n",
       "4 -71.037682                       ASSAULT - SIMPLE   \n",
       "\n",
       "           OFFENSE_CODE_GROUP  \\\n",
       "0                    HOMICIDE   \n",
       "1        RESIDENTIAL BURGLARY   \n",
       "2  LARCENY FROM MOTOR VEHICLE   \n",
       "3              SIMPLE ASSAULT   \n",
       "4              SIMPLE ASSAULT   \n",
       "\n",
       "                                             ADDRESS               ROAD  \\\n",
       "0  {'house_number': '49', 'road': 'West Eagle Str...  West Eagle Street   \n",
       "1  {'house_number': '49', 'road': 'West Eagle Str...  West Eagle Street   \n",
       "2  {'house_number': '49', 'road': 'West Eagle Str...  West Eagle Street   \n",
       "3  {'house_number': '49', 'road': 'West Eagle Str...  West Eagle Street   \n",
       "4  {'house_number': '49', 'road': 'West Eagle Str...  West Eagle Street   \n",
       "\n",
       "  NEIGHBOURHOOD       SUBURB    CITY          COUNTY  \n",
       "0    Eagle Hill  East Boston  Boston  Suffolk County  \n",
       "1    Eagle Hill  East Boston  Boston  Suffolk County  \n",
       "2    Eagle Hill  East Boston  Boston  Suffolk County  \n",
       "3    Eagle Hill  East Boston  Boston  Suffolk County  \n",
       "4    Eagle Hill  East Boston  Boston  Suffolk County  "
      ]
     },
     "execution_count": 4,
     "metadata": {},
     "output_type": "execute_result"
    }
   ],
   "source": [
    "data_path = \"crime_reports_cleaned.csv\"\n",
    "\n",
    "data = pd.read_csv(data_path)\n",
    "data.head()"
   ]
  },
  {
   "cell_type": "markdown",
   "metadata": {
    "id": "0nW-jQcH2K5Y"
   },
   "source": [
    "# Adding Violent Column"
   ]
  },
  {
   "cell_type": "code",
   "execution_count": 22,
   "metadata": {
    "colab": {
     "base_uri": "https://localhost:8080/"
    },
    "id": "dXweumlWyZEx",
    "outputId": "34cf79af-7f3e-404c-c071-de6e38e7b3f4"
   },
   "outputs": [],
   "source": [
    "violent_list = ['MIGRATED REPORT - CRIMINAL HOMICIDE',\n",
    "       'BURGLARY - RESIDENTIAL - FORCE', 'ASSAULT - SIMPLE', 'VANDALISM',\n",
    "       'MURDER, NON-NEGLIGIENT MANSLAUGHTER', 'ROBBERY - STREET',\n",
    "       'ROBBERY - BANK', 'ROBBERY - OTHER',\n",
    "       'MIGRATED REPORT - AGGRAVATED ASSAULT/AGGRAVATED ASSAULT & BATTERY',\n",
    "       'ASSAULT - AGGRAVATED - BATTERY', 'ASSAULT - AGGRAVATED',\n",
    "       'MIGRATED REPORT - BURGLARY/BREAKING AND ENTERING',\n",
    "       'BURGLARY - RESIDENTIAL - ATTEMPT',\n",
    "       'BURGLARY - RESIDENTIAL - NO FORCE',\n",
    "       'BURGLARY - COMMERICAL - FORCE', 'BURGLARY - OTHER - NO FORCE',\n",
    "       'MIGRATED REPORT - OTHER LARCENY', 'LARCENY PICK-POCKET',\n",
    "       'LARCENY PURSE SNATCH - NO FORCE ', 'LARCENY SHOPLIFTING',\n",
    "       'LARCENY THEFT OF BICYCLE', 'LARCENY THEFT FROM BUILDING',\n",
    "       'LARCENY ALL OTHERS', 'BREAKING AND ENTERING (B&E) MOTOR VEHICLE',\n",
    "       'MIGRATED REPORT - LARCENY FROM MV', 'ASSAULT SIMPLE - BATTERY',\n",
    "       'GRAFFITI', 'WEAPON - FIREARM - CARRYING / POSSESSING, ETC',\n",
    "       'WEAPON - OTHER - CARRYING / POSSESSING, ETC',\n",
    "       'WEAPON - FIREARM - OTHER VIOLATION', 'FUGITIVE FROM JUSTICE',\n",
    "       'FIRE REPORT - HOUSE, BUILDING, ETC.', 'WARRANT ARREST',\n",
    "       'WARRANT ARREST - OUTSIDE OF BOSTON WARRANT',\n",
    "       'FIRE REPORT - CAR, BRUSH, ETC.', 'MISSING PERSON - LOCATED',\n",
    "       'MISSING PERSON - NOT REPORTED - LOCATED',\n",
    "       'MIGRATED REPORT - ROBBERY', 'ROBBERY - COMMERCIAL',\n",
    "       'ROBBERY - CAR JACKING', 'CHILD ENDANGERMENT (NO ASSAULT)',\n",
    "       'CHILD ABANDONMENT (NO ASSAULT)', 'CHILD ENDANGERMENT',\n",
    "       'MIGRATED REPORT - INVESTIGATE PROPERTY',\n",
    "       'FIRE REPORT/ALARM - FALSE', 'ROBBERY - HOME INVASION', 'ARSON',\n",
    "       'MIGRATED REPORT - WEAPONS VIOLATION', 'BOMB THREAT',\n",
    "       'BURGLARY - COMMERICAL - ATTEMPT', 'HOME INVASION', 'STALKING',\n",
    "       'BURGLARY - OTHER - FORCE',\n",
    "       'WEAPON - FIREARM - SALE / TRAFFICKING',\n",
    "       'MANSLAUGHTER - NON-VEHICLE - NEGLIGENCE',\n",
    "       'MANSLAUGHTER - VEHICLE - NEGLIGENCE',\n",
    "       'BURGLARY - COMMERICAL - NO FORCE',\n",
    "       'HUMAN TRAFFICKING - COMMERCIAL SEX ACTS',\n",
    "       'LARCENY THEFT FROM COIN-OP MACHINE',\n",
    "       'EXPLOSIVES - TURNED IN OR FOUND', 'CHINS',\n",
    "       'CONTRIBUTING TO DELINQUENCY OF MINOR',\n",
    "       'MANSLAUGHTER - TRAIN ETC. VICTIM NON-NEGLIGENCE',\n",
    "       'ROBBERY - UNARMED - RESIDENCE', 'EXPLOSIVES - POSSESSION OR USE',\n",
    "       'LARCENY IN A BUILDING UNDER $50', 'KILLING OF FELON BY POLICE',\n",
    "       'PRISONER - SUICIDE / SUICIDE ATTEMPT', 'ROBBERY - KNIFE - STREET',\n",
    "       'B&E NON-RESIDENCE NIGHT - FORCE',\n",
    "       'MIGRATED REPORT - COUNTERFEITING/FORGERY',\n",
    "       'ROBBERY ATTEMPT - KNIFE - BANK', 'LARCENY SHOPLIFTING UNDER $50',\n",
    "       'B&E NON-RESIDENCE NIGHT - ATTEMPT FORCE', 'JUSTIFIABLE HOMICIDE',\n",
    "       'BURGLARY - OTHER - ATTEMPT', 'ROBBERY - UNARMED - BUSINESS',\n",
    "       'ROBBERY - UNARMED - CHAIN STORE', 'BIOLOGICAL THREATS',\n",
    "       'ASSAULT & BATTERY D/W - OTHER', 'A&B ON POLICE OFFICER',\n",
    "       'ASSAULT & BATTERY D/W - KNIFE',\n",
    "       'PRISONER ESCAPE / ESCAPE & RECAPTURE',\n",
    "       'LARCENY IN A BUILDING $50 TO $199', 'LARCENY OTHER $50 TO $199',\n",
    "       'LARCENY SHOPLIFTING $50 TO $199',\n",
    "       'B&E NON-RESIDENCE DAY - NO PROP TAKEN',\n",
    "       'ROBBERY - UNARMED - STREET', 'LARCENY OTHER UNDER $50',\n",
    "       'ASSAULT D/W - KNIFE ON POLICE OFFICER',\n",
    "       'A&B HANDS, FEET, ETC.  - MED. ATTENTION REQ.',\n",
    "       'PRISONER ATTEMPT TO RESCUE',\n",
    "       'B&E RESIDENCE NIGHT - ATTEMPT FORCE',\n",
    "       'B&E RESIDENCE DAY - NO PROP TAKEN']"
   ]
  },
  {
   "cell_type": "code",
   "execution_count": 23,
   "metadata": {},
   "outputs": [],
   "source": [
    "data['VIOLENTT'] = np.where(data['OFFENSE_DESCRIPTION'].isin(violent_list),1,0)"
   ]
  },
  {
   "cell_type": "code",
   "execution_count": 24,
   "metadata": {
    "colab": {
     "base_uri": "https://localhost:8080/"
    },
    "id": "Rn8r0PWf97K0",
    "outputId": "d3888032-9f5c-4a21-e9d0-b7e5c05dcf52"
   },
   "outputs": [
    {
     "name": "stdout",
     "output_type": "stream",
     "text": [
      "<class 'pandas.core.frame.DataFrame'>\n",
      "RangeIndex: 595576 entries, 0 to 595575\n",
      "Data columns (total 21 columns):\n",
      " #   Column               Non-Null Count   Dtype   \n",
      "---  ------               --------------   -----   \n",
      " 0   INCIDENT_NUMBER      595576 non-null  object  \n",
      " 1   OFFENSE_CODE         595576 non-null  int64   \n",
      " 2   SHOOTING             595576 non-null  int64   \n",
      " 3   OCCURRED_ON_DATE     595576 non-null  object  \n",
      " 4   YEAR                 595576 non-null  int64   \n",
      " 5   MONTH                595576 non-null  int64   \n",
      " 6   DAY_OF_WEEK          595576 non-null  object  \n",
      " 7   HOUR                 595576 non-null  int64   \n",
      " 8   LOCATION             595576 non-null  object  \n",
      " 9   LATITUDE             595576 non-null  float64 \n",
      " 10  LONGITUDE            595576 non-null  float64 \n",
      " 11  OFFENSE_DESCRIPTION  595576 non-null  object  \n",
      " 12  OFFENSE_CODE_GROUP   595576 non-null  object  \n",
      " 13  ADDRESS              595576 non-null  object  \n",
      " 14  ROAD                 594569 non-null  object  \n",
      " 15  NEIGHBOURHOOD        372492 non-null  object  \n",
      " 16  SUBURB               533519 non-null  object  \n",
      " 17  CITY                 595373 non-null  object  \n",
      " 18  COUNTY               595576 non-null  object  \n",
      " 19  VIOLENT              595576 non-null  category\n",
      " 20  VIOLENTT             595576 non-null  int32   \n",
      "dtypes: category(1), float64(2), int32(1), int64(5), object(12)\n",
      "memory usage: 89.2+ MB\n"
     ]
    }
   ],
   "source": [
    "data[\"VIOLENT\"] = data[\"VIOLENT\"].astype(\"category\")\n",
    "\n",
    "data.info()"
   ]
  },
  {
   "cell_type": "markdown",
   "metadata": {
    "id": "y7S_hjZM2bHK"
   },
   "source": [
    "# Generating Count"
   ]
  },
  {
   "cell_type": "code",
   "execution_count": 25,
   "metadata": {
    "colab": {
     "base_uri": "https://localhost:8080/",
     "height": 487
    },
    "id": "SprlEqkx_oGw",
    "outputId": "7da47184-bb1e-424b-87e9-6b6651e2d341"
   },
   "outputs": [
    {
     "data": {
      "text/html": [
       "<div>\n",
       "<style scoped>\n",
       "    .dataframe tbody tr th:only-of-type {\n",
       "        vertical-align: middle;\n",
       "    }\n",
       "\n",
       "    .dataframe tbody tr th {\n",
       "        vertical-align: top;\n",
       "    }\n",
       "\n",
       "    .dataframe thead th {\n",
       "        text-align: right;\n",
       "    }\n",
       "</style>\n",
       "<table border=\"1\" class=\"dataframe\">\n",
       "  <thead>\n",
       "    <tr style=\"text-align: right;\">\n",
       "      <th></th>\n",
       "      <th>MONTH</th>\n",
       "      <th>YEAR</th>\n",
       "      <th>INCIDENT_NUMBER</th>\n",
       "      <th>OFFENSE_CODE</th>\n",
       "      <th>SHOOTING</th>\n",
       "      <th>OCCURRED_ON_DATE</th>\n",
       "      <th>DAY_OF_WEEK</th>\n",
       "      <th>HOUR</th>\n",
       "      <th>LOCATION</th>\n",
       "      <th>LATITUDE</th>\n",
       "      <th>...</th>\n",
       "      <th>OFFENSE_DESCRIPTION</th>\n",
       "      <th>OFFENSE_CODE_GROUP</th>\n",
       "      <th>ADDRESS</th>\n",
       "      <th>ROAD</th>\n",
       "      <th>NEIGHBOURHOOD</th>\n",
       "      <th>SUBURB</th>\n",
       "      <th>CITY</th>\n",
       "      <th>COUNTY</th>\n",
       "      <th>VIOLENT</th>\n",
       "      <th>VIOLENTT</th>\n",
       "    </tr>\n",
       "  </thead>\n",
       "  <tbody>\n",
       "    <tr>\n",
       "      <th>0</th>\n",
       "      <td>1</td>\n",
       "      <td>2016</td>\n",
       "      <td>7845</td>\n",
       "      <td>7845</td>\n",
       "      <td>7845</td>\n",
       "      <td>7845</td>\n",
       "      <td>7845</td>\n",
       "      <td>7845</td>\n",
       "      <td>7845</td>\n",
       "      <td>7845</td>\n",
       "      <td>...</td>\n",
       "      <td>7845</td>\n",
       "      <td>7845</td>\n",
       "      <td>7845</td>\n",
       "      <td>7841</td>\n",
       "      <td>4937</td>\n",
       "      <td>6929</td>\n",
       "      <td>7843</td>\n",
       "      <td>7845</td>\n",
       "      <td>7845</td>\n",
       "      <td>7845</td>\n",
       "    </tr>\n",
       "    <tr>\n",
       "      <th>1</th>\n",
       "      <td>1</td>\n",
       "      <td>2017</td>\n",
       "      <td>7997</td>\n",
       "      <td>7997</td>\n",
       "      <td>7997</td>\n",
       "      <td>7997</td>\n",
       "      <td>7997</td>\n",
       "      <td>7997</td>\n",
       "      <td>7997</td>\n",
       "      <td>7997</td>\n",
       "      <td>...</td>\n",
       "      <td>7997</td>\n",
       "      <td>7997</td>\n",
       "      <td>7997</td>\n",
       "      <td>7980</td>\n",
       "      <td>5126</td>\n",
       "      <td>7103</td>\n",
       "      <td>7993</td>\n",
       "      <td>7997</td>\n",
       "      <td>7997</td>\n",
       "      <td>7997</td>\n",
       "    </tr>\n",
       "    <tr>\n",
       "      <th>2</th>\n",
       "      <td>1</td>\n",
       "      <td>2018</td>\n",
       "      <td>7826</td>\n",
       "      <td>7826</td>\n",
       "      <td>7826</td>\n",
       "      <td>7826</td>\n",
       "      <td>7826</td>\n",
       "      <td>7826</td>\n",
       "      <td>7826</td>\n",
       "      <td>7826</td>\n",
       "      <td>...</td>\n",
       "      <td>7826</td>\n",
       "      <td>7826</td>\n",
       "      <td>7826</td>\n",
       "      <td>7813</td>\n",
       "      <td>4866</td>\n",
       "      <td>7037</td>\n",
       "      <td>7824</td>\n",
       "      <td>7826</td>\n",
       "      <td>7826</td>\n",
       "      <td>7826</td>\n",
       "    </tr>\n",
       "    <tr>\n",
       "      <th>3</th>\n",
       "      <td>1</td>\n",
       "      <td>2019</td>\n",
       "      <td>6933</td>\n",
       "      <td>6933</td>\n",
       "      <td>6933</td>\n",
       "      <td>6933</td>\n",
       "      <td>6933</td>\n",
       "      <td>6933</td>\n",
       "      <td>6933</td>\n",
       "      <td>6933</td>\n",
       "      <td>...</td>\n",
       "      <td>6933</td>\n",
       "      <td>6933</td>\n",
       "      <td>6933</td>\n",
       "      <td>6922</td>\n",
       "      <td>4375</td>\n",
       "      <td>6006</td>\n",
       "      <td>6929</td>\n",
       "      <td>6933</td>\n",
       "      <td>6933</td>\n",
       "      <td>6933</td>\n",
       "    </tr>\n",
       "    <tr>\n",
       "      <th>4</th>\n",
       "      <td>1</td>\n",
       "      <td>2020</td>\n",
       "      <td>6340</td>\n",
       "      <td>6340</td>\n",
       "      <td>6340</td>\n",
       "      <td>6340</td>\n",
       "      <td>6340</td>\n",
       "      <td>6340</td>\n",
       "      <td>6340</td>\n",
       "      <td>6340</td>\n",
       "      <td>...</td>\n",
       "      <td>6340</td>\n",
       "      <td>6340</td>\n",
       "      <td>6340</td>\n",
       "      <td>6327</td>\n",
       "      <td>3972</td>\n",
       "      <td>5827</td>\n",
       "      <td>6339</td>\n",
       "      <td>6340</td>\n",
       "      <td>6340</td>\n",
       "      <td>6340</td>\n",
       "    </tr>\n",
       "    <tr>\n",
       "      <th>...</th>\n",
       "      <td>...</td>\n",
       "      <td>...</td>\n",
       "      <td>...</td>\n",
       "      <td>...</td>\n",
       "      <td>...</td>\n",
       "      <td>...</td>\n",
       "      <td>...</td>\n",
       "      <td>...</td>\n",
       "      <td>...</td>\n",
       "      <td>...</td>\n",
       "      <td>...</td>\n",
       "      <td>...</td>\n",
       "      <td>...</td>\n",
       "      <td>...</td>\n",
       "      <td>...</td>\n",
       "      <td>...</td>\n",
       "      <td>...</td>\n",
       "      <td>...</td>\n",
       "      <td>...</td>\n",
       "      <td>...</td>\n",
       "      <td>...</td>\n",
       "    </tr>\n",
       "    <tr>\n",
       "      <th>77</th>\n",
       "      <td>12</td>\n",
       "      <td>2017</td>\n",
       "      <td>7545</td>\n",
       "      <td>7545</td>\n",
       "      <td>7545</td>\n",
       "      <td>7545</td>\n",
       "      <td>7545</td>\n",
       "      <td>7545</td>\n",
       "      <td>7545</td>\n",
       "      <td>7545</td>\n",
       "      <td>...</td>\n",
       "      <td>7545</td>\n",
       "      <td>7545</td>\n",
       "      <td>7545</td>\n",
       "      <td>7533</td>\n",
       "      <td>4755</td>\n",
       "      <td>6734</td>\n",
       "      <td>7543</td>\n",
       "      <td>7545</td>\n",
       "      <td>7545</td>\n",
       "      <td>7545</td>\n",
       "    </tr>\n",
       "    <tr>\n",
       "      <th>78</th>\n",
       "      <td>12</td>\n",
       "      <td>2018</td>\n",
       "      <td>7689</td>\n",
       "      <td>7689</td>\n",
       "      <td>7689</td>\n",
       "      <td>7689</td>\n",
       "      <td>7689</td>\n",
       "      <td>7689</td>\n",
       "      <td>7689</td>\n",
       "      <td>7689</td>\n",
       "      <td>...</td>\n",
       "      <td>7689</td>\n",
       "      <td>7689</td>\n",
       "      <td>7689</td>\n",
       "      <td>7682</td>\n",
       "      <td>4710</td>\n",
       "      <td>6895</td>\n",
       "      <td>7684</td>\n",
       "      <td>7689</td>\n",
       "      <td>7689</td>\n",
       "      <td>7689</td>\n",
       "    </tr>\n",
       "    <tr>\n",
       "      <th>79</th>\n",
       "      <td>12</td>\n",
       "      <td>2019</td>\n",
       "      <td>6281</td>\n",
       "      <td>6281</td>\n",
       "      <td>6281</td>\n",
       "      <td>6281</td>\n",
       "      <td>6281</td>\n",
       "      <td>6281</td>\n",
       "      <td>6281</td>\n",
       "      <td>6281</td>\n",
       "      <td>...</td>\n",
       "      <td>6281</td>\n",
       "      <td>6281</td>\n",
       "      <td>6281</td>\n",
       "      <td>6270</td>\n",
       "      <td>3899</td>\n",
       "      <td>5711</td>\n",
       "      <td>6278</td>\n",
       "      <td>6281</td>\n",
       "      <td>6281</td>\n",
       "      <td>6281</td>\n",
       "    </tr>\n",
       "    <tr>\n",
       "      <th>80</th>\n",
       "      <td>12</td>\n",
       "      <td>2020</td>\n",
       "      <td>5601</td>\n",
       "      <td>5601</td>\n",
       "      <td>5601</td>\n",
       "      <td>5601</td>\n",
       "      <td>5601</td>\n",
       "      <td>5601</td>\n",
       "      <td>5601</td>\n",
       "      <td>5601</td>\n",
       "      <td>...</td>\n",
       "      <td>5601</td>\n",
       "      <td>5601</td>\n",
       "      <td>5601</td>\n",
       "      <td>5590</td>\n",
       "      <td>3425</td>\n",
       "      <td>5050</td>\n",
       "      <td>5601</td>\n",
       "      <td>5601</td>\n",
       "      <td>5601</td>\n",
       "      <td>5601</td>\n",
       "    </tr>\n",
       "    <tr>\n",
       "      <th>81</th>\n",
       "      <td>12</td>\n",
       "      <td>2021</td>\n",
       "      <td>5570</td>\n",
       "      <td>5570</td>\n",
       "      <td>5570</td>\n",
       "      <td>5570</td>\n",
       "      <td>5570</td>\n",
       "      <td>5570</td>\n",
       "      <td>5570</td>\n",
       "      <td>5570</td>\n",
       "      <td>...</td>\n",
       "      <td>5570</td>\n",
       "      <td>5570</td>\n",
       "      <td>5570</td>\n",
       "      <td>5561</td>\n",
       "      <td>3550</td>\n",
       "      <td>5009</td>\n",
       "      <td>5567</td>\n",
       "      <td>5570</td>\n",
       "      <td>5570</td>\n",
       "      <td>5570</td>\n",
       "    </tr>\n",
       "  </tbody>\n",
       "</table>\n",
       "<p>82 rows × 21 columns</p>\n",
       "</div>"
      ],
      "text/plain": [
       "    MONTH  YEAR  INCIDENT_NUMBER  OFFENSE_CODE  SHOOTING  OCCURRED_ON_DATE  \\\n",
       "0       1  2016             7845          7845      7845              7845   \n",
       "1       1  2017             7997          7997      7997              7997   \n",
       "2       1  2018             7826          7826      7826              7826   \n",
       "3       1  2019             6933          6933      6933              6933   \n",
       "4       1  2020             6340          6340      6340              6340   \n",
       "..    ...   ...              ...           ...       ...               ...   \n",
       "77     12  2017             7545          7545      7545              7545   \n",
       "78     12  2018             7689          7689      7689              7689   \n",
       "79     12  2019             6281          6281      6281              6281   \n",
       "80     12  2020             5601          5601      5601              5601   \n",
       "81     12  2021             5570          5570      5570              5570   \n",
       "\n",
       "    DAY_OF_WEEK  HOUR  LOCATION  LATITUDE  ...  OFFENSE_DESCRIPTION  \\\n",
       "0          7845  7845      7845      7845  ...                 7845   \n",
       "1          7997  7997      7997      7997  ...                 7997   \n",
       "2          7826  7826      7826      7826  ...                 7826   \n",
       "3          6933  6933      6933      6933  ...                 6933   \n",
       "4          6340  6340      6340      6340  ...                 6340   \n",
       "..          ...   ...       ...       ...  ...                  ...   \n",
       "77         7545  7545      7545      7545  ...                 7545   \n",
       "78         7689  7689      7689      7689  ...                 7689   \n",
       "79         6281  6281      6281      6281  ...                 6281   \n",
       "80         5601  5601      5601      5601  ...                 5601   \n",
       "81         5570  5570      5570      5570  ...                 5570   \n",
       "\n",
       "    OFFENSE_CODE_GROUP  ADDRESS  ROAD  NEIGHBOURHOOD  SUBURB  CITY  COUNTY  \\\n",
       "0                 7845     7845  7841           4937    6929  7843    7845   \n",
       "1                 7997     7997  7980           5126    7103  7993    7997   \n",
       "2                 7826     7826  7813           4866    7037  7824    7826   \n",
       "3                 6933     6933  6922           4375    6006  6929    6933   \n",
       "4                 6340     6340  6327           3972    5827  6339    6340   \n",
       "..                 ...      ...   ...            ...     ...   ...     ...   \n",
       "77                7545     7545  7533           4755    6734  7543    7545   \n",
       "78                7689     7689  7682           4710    6895  7684    7689   \n",
       "79                6281     6281  6270           3899    5711  6278    6281   \n",
       "80                5601     5601  5590           3425    5050  5601    5601   \n",
       "81                5570     5570  5561           3550    5009  5567    5570   \n",
       "\n",
       "    VIOLENT  VIOLENTT  \n",
       "0      7845      7845  \n",
       "1      7997      7997  \n",
       "2      7826      7826  \n",
       "3      6933      6933  \n",
       "4      6340      6340  \n",
       "..      ...       ...  \n",
       "77     7545      7545  \n",
       "78     7689      7689  \n",
       "79     6281      6281  \n",
       "80     5601      5601  \n",
       "81     5570      5570  \n",
       "\n",
       "[82 rows x 21 columns]"
      ]
     },
     "execution_count": 25,
     "metadata": {},
     "output_type": "execute_result"
    }
   ],
   "source": [
    "new_data = data.groupby(['MONTH', 'YEAR', 'VIOLENT']).size().reset_index(name='counts')\n",
    "new_data_2 = data.groupby(['MONTH', 'YEAR']).count().reset_index()\n",
    "\n",
    "new_data_2"
   ]
  },
  {
   "cell_type": "code",
   "execution_count": 30,
   "metadata": {
    "colab": {
     "base_uri": "https://localhost:8080/",
     "height": 297
    },
    "id": "Y4n3q-lS9Q65",
    "outputId": "ee112562-f5b7-4d3c-dbfc-bfa638f9144a"
   },
   "outputs": [
    {
     "data": {
      "image/png": "[encoded data removed]",
      "text/plain": [
       "<Figure size 432x288 with 1 Axes>"
      ]
     },
     "metadata": {
      "needs_background": "light"
     },
     "output_type": "display_data"
    }
   ],
   "source": [
    "fig = sns.countplot(data=data, x = \"VIOLENT\")\n",
    "fig = fig.get_figure()"
   ]
  },
  {
   "cell_type": "code",
   "execution_count": 31,
   "metadata": {},
   "outputs": [],
   "source": [
    "fig.savefig(\"VIOLENT_Crimes_Countplot.png\") "
   ]
  },
  {
   "cell_type": "markdown",
   "metadata": {
    "id": "xeP5dnoF2oRV"
   },
   "source": [
    "# Latitude and Longitude Pre-processing"
   ]
  },
  {
   "cell_type": "code",
   "execution_count": 32,
   "metadata": {
    "id": "PtI1ZxamweqK"
   },
   "outputs": [],
   "source": [
    "data['LONGITUDE'] = data['LONGITUDE'].replace(r'\\s+', np.nan, regex=True)\n",
    "data['LONGITUDE'] = data['LONGITUDE'].replace(r'^$', np.nan, regex=True)\n",
    "data['LONGITUDE'] = data['LONGITUDE'].fillna(-0.99999)\n",
    "data['LONGITUDE'] = pd.to_numeric(data['LONGITUDE'])\n",
    "data['LATITUDE'] = data['LATITUDE'].replace(r'\\s+', np.nan, regex=True)\n",
    "data['LATITUDE'] = data['LATITUDE'].replace(r'^$', np.nan, regex=True)\n",
    "data['LATITUDE'] = data['LATITUDE'].fillna(-0.99999)\n",
    "data['LATITUDE'] = pd.to_numeric(data['LATITUDE'])"
   ]
  },
  {
   "cell_type": "markdown",
   "metadata": {
    "id": "0xOwzIHG29bg"
   },
   "source": [
    "# Heatmap for 2020 and 2021"
   ]
  },
  {
   "cell_type": "code",
   "execution_count": 34,
   "metadata": {
    "colab": {
     "base_uri": "https://localhost:8080/",
     "height": 627
    },
    "id": "Wo56lBMsC60q",
    "outputId": "76e76fca-2e4f-4587-f75e-ecaf23f41582"
   },
   "outputs": [
    {
     "data": {
      "text/plain": [
       "<folium.plugins.heat_map.HeatMap at 0x229cb852790>"
      ]
     },
     "execution_count": 34,
     "metadata": {},
     "output_type": "execute_result"
    }
   ],
   "source": [
    "heatmap2020 = folium.Map(location = [42.32,-71.0589], tiles='cartodbpositron', zoom_start=12)\n",
    "\n",
    "data2020 = data[data[\"YEAR\"] == 2020]\n",
    "heat_data_2020 = [[row['LATITUDE'],row['LONGITUDE']] for index, row in data2020.iterrows()]\n",
    "\n",
    "HeatMap(data = heat_data_2020, radius = 10).add_to(heatmap2020)"
   ]
  },
  {
   "cell_type": "code",
   "execution_count": 52,
   "metadata": {},
   "outputs": [],
   "source": [
    "heatmap2020.save('crime_2020.html')"
   ]
  },
  {
   "cell_type": "code",
   "execution_count": 55,
   "metadata": {
    "colab": {
     "base_uri": "https://localhost:8080/",
     "height": 627
    },
    "id": "d8py_Tgq0kWT",
    "outputId": "bcf25795-c80e-4a7e-9d3f-ec00a3304039"
   },
   "outputs": [],
   "source": [
    "heatmap2021 = folium.Map(location = [42.32,-71.0589], tiles='cartodbpositron', zoom_start=12)\n",
    "\n",
    "data2021 = data[data[\"YEAR\"] == 2021]\n",
    "heat_data_2021 = [[row['LATITUDE'],row['LONGITUDE']] for index, row in data2021.iterrows()]\n",
    "\n",
    "HeatMap(data = heat_data_2021, radius = 10).add_to(heatmap2021)\n",
    "\n",
    "heatmap2021.save('crime_2021.html')"
   ]
  },
  {
   "cell_type": "markdown",
   "metadata": {
    "id": "EjCmVFid3YsT"
   },
   "source": [
    "# Cluster for 2020 and 2021"
   ]
  },
  {
   "cell_type": "code",
   "execution_count": 56,
   "metadata": {
    "colab": {
     "base_uri": "https://localhost:8080/",
     "height": 627
    },
    "id": "sXCc4Mug3dr1",
    "outputId": "d0dd71de-3551-4927-e6e0-c850c4852fee"
   },
   "outputs": [],
   "source": [
    "clustermap2020 = folium.Map(location=[42.32,-71.0589], tiles='cartodbpositron', zoom_start=13)\n",
    "\n",
    "mc = MarkerCluster()\n",
    "\n",
    "for idx, row in data2020.iterrows():\n",
    "    if not math.isnan(row['LONGITUDE']) and not math.isnan(row['LATITUDE']):\n",
    "        mc.add_child(Marker([row['LATITUDE'], row['LONGITUDE']]))\n",
    "\n",
    "clustermap2020.add_child(mc)\n",
    "\n",
    "clustermap2020.save('crime_2020_clustermap.html')"
   ]
  },
  {
   "cell_type": "code",
   "execution_count": 57,
   "metadata": {
    "colab": {
     "base_uri": "https://localhost:8080/",
     "height": 627
    },
    "id": "rR3E97jo5xli",
    "outputId": "07ebb324-2019-43db-8f4a-4f41165ae0d1"
   },
   "outputs": [],
   "source": [
    "clustermap2021 = folium.Map(location=[42.32,-71.0589], tiles='cartodbpositron', zoom_start=13)\n",
    "\n",
    "mc = MarkerCluster()\n",
    "\n",
    "for idx, row in data2021.iterrows():\n",
    "    if not math.isnan(row['LONGITUDE']) and not math.isnan(row['LATITUDE']):\n",
    "        mc.add_child(Marker([row['LATITUDE'], row['LONGITUDE']]))\n",
    "\n",
    "clustermap2021.add_child(mc)\n",
    "\n",
    "clustermap2021.save('crime_2021_clustermap.html')"
   ]
  },
  {
   "cell_type": "markdown",
   "metadata": {
    "id": "l_Je0_wI6Rsu"
   },
   "source": [
    "# Comparing Violent and Non-violent crimes in 2021"
   ]
  },
  {
   "cell_type": "code",
   "execution_count": 58,
   "metadata": {
    "colab": {
     "base_uri": "https://localhost:8080/",
     "height": 627
    },
    "id": "GPe-v3CV6Z35",
    "outputId": "74243a55-2c52-4b59-d2d2-a2a9b4a65c36"
   },
   "outputs": [],
   "source": [
    "heatmap2021_v = folium.Map(location=[42.32,-71.0589], tiles='cartodbpositron', zoom_start=12)\n",
    "\n",
    "data2021 = data[data[\"YEAR\"] == 2021]\n",
    "data2021_v = data2021[data2021[\"VIOLENT\"] == 1]\n",
    "\n",
    "heat_data_2021_v = [[row['LATITUDE'],row['LONGITUDE']] for index, row in data2021_v.iterrows()]\n",
    "\n",
    "HeatMap(data = heat_data_2021_v, radius = 10).add_to(heatmap2021_v)\n",
    "\n",
    "heatmap2021_v.save('violent_crime_2021_heatmap.html')"
   ]
  },
  {
   "cell_type": "code",
   "execution_count": 59,
   "metadata": {
    "colab": {
     "base_uri": "https://localhost:8080/",
     "height": 627
    },
    "id": "CW7zm7zm7R3v",
    "outputId": "6657626a-d7f0-4b0d-d42d-0ecb6702a625"
   },
   "outputs": [],
   "source": [
    "heatmap2021_nv = folium.Map(location=[42.32,-71.0589], tiles='cartodbpositron', zoom_start=12)\n",
    "\n",
    "data2021_nv = data2021[data2021[\"VIOLENT\"] == 0]\n",
    "\n",
    "heat_data_2021_nv = [[row['LATITUDE'],row['LONGITUDE']] for index, row in data2021_nv.iterrows()]\n",
    "\n",
    "HeatMap(data = heat_data_2021_nv, radius = 10).add_to(heatmap2021_nv)\n",
    "\n",
    "heatmap2021_nv.save('nonviolent_crime_2021_heatmap.html')"
   ]
  },
  {
   "cell_type": "markdown",
   "metadata": {
    "id": "PgGLWDWemuxV"
   },
   "source": [
    "# Crime Category"
   ]
  },
  {
   "cell_type": "code",
   "execution_count": 45,
   "metadata": {
    "colab": {
     "base_uri": "https://localhost:8080/",
     "height": 629
    },
    "id": "n17T7Q7Pmxks",
    "outputId": "5e3bab20-f50e-40a5-c818-6dbcf4f7ca28"
   },
   "outputs": [
    {
     "data": {
      "image/png": "[encoded data removed]",
      "text/plain": [
       "<Figure size 864x720 with 1 Axes>"
      ]
     },
     "metadata": {},
     "output_type": "display_data"
    }
   ],
   "source": [
    "sns.set(rc={'figure.figsize':(12, 10)})\n",
    "\n",
    "fig = sns.countplot(y = \"OFFENSE_CODE_GROUP\",\n",
    "              data = data, \n",
    "              order = data.OFFENSE_CODE_GROUP.value_counts().iloc[:10].index)\n",
    "fig = fig.get_figure()\n",
    "fig.savefig(\"Type_of_Crimes_Countplot.png\") "
   ]
  },
  {
   "cell_type": "code",
   "execution_count": 17,
   "metadata": {
    "id": "reZIbC-Qy1Tv"
   },
   "outputs": [],
   "source": []
  },
  {
   "cell_type": "code",
   "execution_count": 17,
   "metadata": {
    "id": "D8RI2uOUzpP9"
   },
   "outputs": [],
   "source": []
  }
 ],
 "metadata": {
  "accelerator": "GPU",
  "colab": {
   "collapsed_sections": [],
   "name": "Project_Data_Modification.ipynb",
   "provenance": []
  },
  "kernelspec": {
   "display_name": "Python 3",
   "language": "python",
   "name": "python3"
  },
  "language_info": {
   "codemirror_mode": {
    "name": "ipython",
    "version": 3
   },
   "file_extension": ".py",
   "mimetype": "text/x-python",
   "name": "python",
   "nbconvert_exporter": "python",
   "pygments_lexer": "ipython3",
   "version": "3.8.3"
  }
 },
 "nbformat": 4,
 "nbformat_minor": 1
}
